{
  "cells": [
    {
      "cell_type": "markdown",
      "metadata": {
        "id": "view-in-github",
        "colab_type": "text"
      },
      "source": [
        "<a href=\"https://colab.research.google.com/github/kauafabricio/python-projects/blob/main/flask_fastapi_project.ipynb\" target=\"_parent\"><img src=\"https://colab.research.google.com/assets/colab-badge.svg\" alt=\"Open In Colab\"/></a>"
      ]
    },
    {
      "cell_type": "markdown",
      "source": [
        "**Linkedin: https://www.linkedin.com/in/kaua-fabricio-ds**\n",
        "\n",
        "**Aplicação web que traduz dados formato JSON para tabela em Excel com FastAPI, Ngrok, Uvicorn, e Pandas.**"
      ],
      "metadata": {
        "id": "k2yR1vc7oaMU"
      }
    },
    {
      "cell_type": "code",
      "execution_count": null,
      "metadata": {
        "id": "nCjynX3ni9Hb"
      },
      "outputs": [],
      "source": [
        "!pip install flask\n",
        "!pip install flask_ngrok"
      ]
    },
    {
      "cell_type": "code",
      "source": [
        "!pip install fastapi nest_asyncio pyngrok uvicorn"
      ],
      "metadata": {
        "id": "-biKcRlbGlbN"
      },
      "execution_count": null,
      "outputs": []
    },
    {
      "cell_type": "code",
      "source": [
        "!ngrok config add-authtoken <your-authtoken>"
      ],
      "metadata": {
        "id": "xx9UXGKxLua9"
      },
      "execution_count": null,
      "outputs": []
    },
    {
      "source": [
        "!ngrok start --none"
      ],
      "cell_type": "code",
      "metadata": {
        "id": "N--0ZS9JMW_M"
      },
      "execution_count": null,
      "outputs": []
    },
    {
      "cell_type": "code",
      "source": [
        "from fastapi import FastAPI, Response\n",
        "import pandas as pd\n",
        "import nest_asyncio\n",
        "from pyngrok import ngrok\n",
        "import random as rk\n",
        "import uvicorn\n",
        "from typing import List, Dict\n",
        "\n",
        "app = FastAPI()\n",
        "\n",
        "p = [\n",
        "    {\n",
        "        \"Number\": 1,\n",
        "        \"Name\": \"Mahesh\",\n",
        "        \"Age\": 25,\n",
        "        \"City\": \"Bangalore\",\n",
        "        \"Country\": \"India\"\n",
        "    },\n",
        "    {\n",
        "        \"Number\": 2,\n",
        "        \"Name\": \"Alex\",\n",
        "        \"Age\": 26,\n",
        "        \"City\": \"London\",\n",
        "        \"Country\": \"UK\"\n",
        "    },\n",
        "    {\n",
        "        \"Number\": 3,\n",
        "        \"Name\": \"David\",\n",
        "        \"Age\": 27,\n",
        "        \"City\": \"San Francisco\",\n",
        "        \"Country\": \"USA\"\n",
        "    },\n",
        "    {\n",
        "        \"Number\": 4,\n",
        "        \"Name\": \"John\",\n",
        "        \"Age\": 28,\n",
        "        \"City\": \"Toronto\",\n",
        "        \"Country\": \"Canada\"\n",
        "    },\n",
        "    {\n",
        "        \"Number\": 5,\n",
        "        \"Name\": \"Chris\",\n",
        "        \"Age\": 29,\n",
        "        \"City\": \"Paris\",\n",
        "        \"Country\": \"France\"\n",
        "    }\n",
        "]\n",
        "\n",
        "@app.get('/')\n",
        "def home():\n",
        "  return \"TO CHECK THE SPREADSHEET ADD '/spreadsheet' IN URL.\"\n",
        "\n",
        "@app.get('/spreadsheet')\n",
        "def spreadsheet(response: Response):\n",
        "    df = pd.DataFrame(p, columns=[\"Number\", \"Name\", \"Age\", \"City\", \"Country\"])\n",
        "    csv_data = df.to_csv(index=False)\n",
        "    response.headers[\"Content-Disposition\"] = \"attachment; filename=spreadsheet.csv\"\n",
        "    response.headers[\"Content-Type\"] = \"text/csv\"\n",
        "    return Response(content= csv_data, media_type= \"text/csv\")\n",
        "\n",
        "ngrok_tunnel = ngrok.connect(8000)\n",
        "print('Public URL:', ngrok_tunnel.public_url)\n",
        "nest_asyncio.apply()\n",
        "uvicorn.run(app, port=8000)"
      ],
      "metadata": {
        "id": "Mp8zOjCqH6qP"
      },
      "execution_count": null,
      "outputs": []
    },
    {
      "cell_type": "markdown",
      "source": [
        "**Aplicação web simples com Flask**"
      ],
      "metadata": {
        "id": "hMzp0lrsp8SU"
      }
    },
    {
      "cell_type": "code",
      "source": [
        "import pandas as pd\n",
        "from flask_ngrok import run_with_ngrok\n",
        "from flask import request, jsonify, Flask\n",
        "import random as rk\n",
        "import nest_asyncio\n",
        "from pyngrok import ngrok\n",
        "\n",
        "\n",
        "app = Flask(__name__)\n",
        "\n",
        "example = {\n",
        "    \"author\": \"Kauã\",\n",
        "    \"birthday\": \"16/12\",\n",
        "    \"course\": \"Computer Science\",\n",
        "    \"fav musical genre\": \"Rock\",\n",
        "    \"linkedin\": \"https://www.linkedin.com/in/kaua-fabricio-ds\"\n",
        "}\n",
        "\n",
        "\n",
        "@app.route('/')\n",
        "def home():\n",
        "  return \"TO ACCESS THE INPUT ADD '/input' IN THE URL, TO CHECK OUTPUT '/output'.\"\n",
        "\n",
        "@app.route('/input')\n",
        "def input():\n",
        "  return jsonify(example)\n",
        "\n",
        "@app.route('/output', methods= ['GET', 'POST'])\n",
        "def output():\n",
        "\n",
        "  pred = rk.choice([\"positive\", \"negative\"])\n",
        "  example[\"prediction\"] = pred\n",
        "  return jsonify(example)\n",
        "\n",
        "\n",
        "ngrok_tunnel = ngrok.connect(8000)\n",
        "print('Public URL:', ngrok_tunnel.public_url)\n",
        "nest_asyncio.apply()\n",
        "app.run(port=8000)"
      ],
      "metadata": {
        "id": "Xme6YJ7fqLWj"
      },
      "execution_count": null,
      "outputs": []
    }
  ],
  "metadata": {
    "colab": {
      "provenance": [],
      "authorship_tag": "ABX9TyNIIEFngNHYyo6ms7NGPY/k",
      "include_colab_link": true
    },
    "kernelspec": {
      "display_name": "Python 3",
      "name": "python3"
    },
    "language_info": {
      "name": "python"
    }
  },
  "nbformat": 4,
  "nbformat_minor": 0
}